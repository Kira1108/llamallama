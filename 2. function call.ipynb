{
 "cells": [
  {
   "cell_type": "markdown",
   "metadata": {},
   "source": [
    "### LLAMA API的请求参数\n",
    "\n",
    "```python\n",
    "api_request_json = {\n",
    "    # 这是一条正常的聊天prompt\n",
    "    \"messages\": [\n",
    "        {\"role\": \"user\", \"content\": \"What is the weather like in Boston?\"},\n",
    "    ],\n",
    "\n",
    "    # 可以调用的function(s)\n",
    "    \"functions\": [\n",
    "        {   \n",
    "            # function的名字\n",
    "            \"name\": \"get_current_weather\",\n",
    "\n",
    "            # function的documentation\n",
    "            \"description\": \"Get the current weather in a given location\",\n",
    "\n",
    "            # function的参数列表\n",
    "            \"parameters\": {\n",
    "                # 写死object\n",
    "                \"type\": \"object\",\n",
    "\n",
    "                # 里面罗列参数\n",
    "                \"properties\": {\n",
    "\n",
    "                    # 参数: location\n",
    "                    \"location\": {\n",
    "                        \"type\": \"string\",\n",
    "                        \"description\": \"The city and state, e.g. San Francisco, CA\",\n",
    "                    },\n",
    "\n",
    "                    # 参数: days\n",
    "                    \"days\": {\n",
    "                        \"type\": \"number\",\n",
    "                        \"description\": \"for how many days ahead you wants the forecast\",\n",
    "                    },\n",
    "\n",
    "                    # 参数: unit\n",
    "                    \"unit\": {\"type\": \"string\", \"enum\": [\"celsius\", \"fahrenheit\"]},\n",
    "                },\n",
    "            },\n",
    "\n",
    "            # 必须参数列表\n",
    "            \"required\": [\"location\", \"days\"],\n",
    "        }\n",
    "    ],\n",
    "    \"stream\": False,\n",
    "\n",
    "    # 这个参数表明，当前runtime下，你可以通过名字找到这个function\n",
    "    # 这个function必须在当前的作用域下，可以通过名字找到\n",
    "    # 这样llamaapi就会直接和这个function交互\n",
    "    # 这样其实就不好了，因为你决定直接让它来调用这个函数，属实没有必要\n",
    "    \"function_call\": \"get_current_weather\",\n",
    "}\n",
    "```"
   ]
  },
  {
   "cell_type": "markdown",
   "metadata": {},
   "source": []
  }
 ],
 "metadata": {
  "kernelspec": {
   "display_name": "base",
   "language": "python",
   "name": "python3"
  },
  "language_info": {
   "codemirror_mode": {
    "name": "ipython",
    "version": 3
   },
   "file_extension": ".py",
   "mimetype": "text/x-python",
   "name": "python",
   "nbconvert_exporter": "python",
   "pygments_lexer": "ipython3",
   "version": "3.10.9"
  }
 },
 "nbformat": 4,
 "nbformat_minor": 2
}
