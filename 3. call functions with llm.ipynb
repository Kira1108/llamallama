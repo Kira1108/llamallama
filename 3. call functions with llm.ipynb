{
 "cells": [
  {
   "cell_type": "code",
   "execution_count": 1,
   "metadata": {},
   "outputs": [],
   "source": [
    "from nlp_toolkit.functions import LlamaFunction, FuncArg\n",
    "\n",
    "def get_person_job_info(name:str):\n",
    "    \"\"\"Get job title of a person with name\"\"\"\n",
    "    \n",
    "    config = {\n",
    "        \"wanghuan\":\"engineer\",\n",
    "        \"zhangsan\":\"teacher\",\n",
    "        \"lisi\":\"doctor\",\n",
    "        \"wangwu\":\"farmer\",\n",
    "    }\n",
    "    \n",
    "    return config.get(name, \"no such person\")\n",
    "\n",
    "func = LlamaFunction(get_person_job_info, \n",
    "                     name = FuncArg(description = \"person name in english, lower case string, no space, if chinese encountered, use Chinese pinyin string instead\")\n",
    "                     )"
   ]
  },
  {
   "cell_type": "code",
   "execution_count": 2,
   "metadata": {},
   "outputs": [],
   "source": [
    "import json\n",
    "from llamaapi import LlamaAPI\n",
    "\n",
    "from dotenv import load_dotenv\n",
    "import os\n",
    "\n",
    "def ask_job(name):\n",
    "\n",
    "    api_request_json = {\n",
    "        \"messages\": [\n",
    "            {\"role\": \"user\", \"content\": f\"What is the job title of {name}?\"},\n",
    "        ],\n",
    "\n",
    "        # 可以调用的function(s)\n",
    "        \"functions\": [\n",
    "            func.tool_spec\n",
    "        ],\n",
    "        \n",
    "        \"stream\": False, \n",
    "        \n",
    "        \"function_call\": func.name,\n",
    "        \n",
    "        \"model\":\"llama-70b-chat\"\n",
    "    }\n",
    "\n",
    "\n",
    "    load_dotenv()\n",
    "    LLAMA_API_KEY = os.getenv(\"LLAMA_API_KEY\")\n",
    "\n",
    "    # Initialize the SDK\n",
    "    llama = LlamaAPI(LLAMA_API_KEY)\n",
    "\n",
    "    # Execute the Request\n",
    "    response = llama.run(api_request_json)\n",
    "    print(json.dumps(response.json(), indent=2))\n",
    "\n",
    "    f_resp = response.json()['choices'][0]['message']['function_call']\n",
    "    return func(**f_resp['arguments'])"
   ]
  },
  {
   "cell_type": "code",
   "execution_count": 3,
   "metadata": {},
   "outputs": [
    {
     "name": "stdout",
     "output_type": "stream",
     "text": [
      "{\n",
      "  \"choices\": [\n",
      "    {\n",
      "      \"index\": 0,\n",
      "      \"message\": {\n",
      "        \"role\": \"assistant\",\n",
      "        \"content\": null,\n",
      "        \"function_call\": {\n",
      "          \"name\": \"get_person_job_info\",\n",
      "          \"arguments\": {\n",
      "            \"name\": \"wanghuan\"\n",
      "          }\n",
      "        }\n",
      "      },\n",
      "      \"finish_reason\": \"function_call\"\n",
      "    }\n",
      "  ]\n",
      "}\n"
     ]
    },
    {
     "data": {
      "text/plain": [
       "'engineer'"
      ]
     },
     "execution_count": 3,
     "metadata": {},
     "output_type": "execute_result"
    }
   ],
   "source": [
    "ask_job(\"wanghuan\")"
   ]
  },
  {
   "cell_type": "code",
   "execution_count": 28,
   "metadata": {},
   "outputs": [
    {
     "name": "stdout",
     "output_type": "stream",
     "text": [
      "{\n",
      "  \"choices\": [\n",
      "    {\n",
      "      \"index\": 0,\n",
      "      \"message\": {\n",
      "        \"role\": \"assistant\",\n",
      "        \"content\": null,\n",
      "        \"function_call\": {\n",
      "          \"name\": \"get_person_job_info\",\n",
      "          \"arguments\": {\n",
      "            \"name\": \"zhangsan\"\n",
      "          }\n",
      "        }\n",
      "      },\n",
      "      \"finish_reason\": \"function_call\"\n",
      "    }\n",
      "  ]\n",
      "}\n"
     ]
    },
    {
     "data": {
      "text/plain": [
       "'teacher'"
      ]
     },
     "execution_count": 28,
     "metadata": {},
     "output_type": "execute_result"
    }
   ],
   "source": [
    "ask_job(\"zhangsan\")"
   ]
  },
  {
   "cell_type": "code",
   "execution_count": 30,
   "metadata": {},
   "outputs": [
    {
     "name": "stdout",
     "output_type": "stream",
     "text": [
      "{\n",
      "  \"choices\": [\n",
      "    {\n",
      "      \"index\": 0,\n",
      "      \"message\": {\n",
      "        \"role\": \"assistant\",\n",
      "        \"content\": null,\n",
      "        \"function_call\": {\n",
      "          \"name\": \"get_person_job_info\",\n",
      "          \"arguments\": {\n",
      "            \"name\": \"lisi\"\n",
      "          }\n",
      "        }\n",
      "      },\n",
      "      \"finish_reason\": \"function_call\"\n",
      "    }\n",
      "  ]\n",
      "}\n"
     ]
    },
    {
     "data": {
      "text/plain": [
       "'doctor'"
      ]
     },
     "execution_count": 30,
     "metadata": {},
     "output_type": "execute_result"
    }
   ],
   "source": [
    "ask_job(\"lisi\")"
   ]
  },
  {
   "cell_type": "markdown",
   "metadata": {},
   "source": [
    "*Llama生成了函数的输入，可惜的是，一次只能输入一个函数*"
   ]
  },
  {
   "cell_type": "code",
   "execution_count": 34,
   "metadata": {},
   "outputs": [
    {
     "data": {
      "text/plain": [
       "'get_person_job_info'"
      ]
     },
     "execution_count": 34,
     "metadata": {},
     "output_type": "execute_result"
    }
   ],
   "source": [
    "func.name"
   ]
  },
  {
   "cell_type": "code",
   "execution_count": 4,
   "metadata": {},
   "outputs": [
    {
     "name": "stdout",
     "output_type": "stream",
     "text": [
      "{\n",
      "  \"choices\": [\n",
      "    {\n",
      "      \"index\": 0,\n",
      "      \"message\": {\n",
      "        \"role\": \"assistant\",\n",
      "        \"content\": null,\n",
      "        \"function_call\": {\n",
      "          \"name\": \"get_person_job_info\",\n",
      "          \"arguments\": {\n",
      "            \"name\": \"\\u738b\\u4e94\"\n",
      "          }\n",
      "        }\n",
      "      },\n",
      "      \"finish_reason\": \"function_call\"\n",
      "    }\n",
      "  ]\n",
      "}\n"
     ]
    },
    {
     "data": {
      "text/plain": [
       "'no such person'"
      ]
     },
     "execution_count": 4,
     "metadata": {},
     "output_type": "execute_result"
    }
   ],
   "source": [
    "ask_job('王五')"
   ]
  },
  {
   "cell_type": "markdown",
   "metadata": {},
   "source": [
    "如此智障的无法转换拼音，我也是无语"
   ]
  }
 ],
 "metadata": {
  "kernelspec": {
   "display_name": "base",
   "language": "python",
   "name": "python3"
  },
  "language_info": {
   "codemirror_mode": {
    "name": "ipython",
    "version": 3
   },
   "file_extension": ".py",
   "mimetype": "text/x-python",
   "name": "python",
   "nbconvert_exporter": "python",
   "pygments_lexer": "ipython3",
   "version": "3.10.9"
  }
 },
 "nbformat": 4,
 "nbformat_minor": 2
}
