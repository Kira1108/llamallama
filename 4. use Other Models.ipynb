{
 "cells": [
  {
   "cell_type": "code",
   "execution_count": 3,
   "metadata": {},
   "outputs": [],
   "source": [
    "from llamaapi import LlamaAPI\n",
    "\n",
    "from dotenv import load_dotenv\n",
    "import os\n",
    "\n",
    "load_dotenv()\n",
    "llama = LlamaAPI(os.getenv(\"LLAMA_API_KEY\"))"
   ]
  },
  {
   "cell_type": "code",
   "execution_count": 11,
   "metadata": {},
   "outputs": [],
   "source": [
    "## Access the llama 70B chat model\n",
    "\n",
    "api_request_json = {\n",
    "    \n",
    "\"messages\": [\n",
    "    {\"role\": \"user\", \"content\": f\"Hi there, how are you?\"},\n",
    "],\n",
    "\n",
    "\"stream\": False, \n",
    "\n",
    "\"model\":\"llama-70b-chat\"\n",
    "}\n",
    "\n",
    "response = llama.run(api_request_json).json()\n"
   ]
  },
  {
   "cell_type": "code",
   "execution_count": 14,
   "metadata": {},
   "outputs": [
    {
     "data": {
      "text/plain": [
       "{'choices': [{'index': 0,\n",
       "   'message': {'role': 'assistant',\n",
       "    'content': \"I'm doing well, thanks for asking! How can I assist you today? Is there a specific task or question you'd like help with?\",\n",
       "    'function_call': None},\n",
       "   'finish_reason': 'stop'}]}"
      ]
     },
     "execution_count": 14,
     "metadata": {},
     "output_type": "execute_result"
    }
   ],
   "source": [
    "response"
   ]
  }
 ],
 "metadata": {
  "kernelspec": {
   "display_name": "base",
   "language": "python",
   "name": "python3"
  },
  "language_info": {
   "codemirror_mode": {
    "name": "ipython",
    "version": 3
   },
   "file_extension": ".py",
   "mimetype": "text/x-python",
   "name": "python",
   "nbconvert_exporter": "python",
   "pygments_lexer": "ipython3",
   "version": "3.10.9"
  }
 },
 "nbformat": 4,
 "nbformat_minor": 2
}
